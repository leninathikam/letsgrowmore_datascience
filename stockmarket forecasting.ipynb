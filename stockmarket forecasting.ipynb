{
  "nbformat": 4,
  "nbformat_minor": 0,
  "metadata": {
    "colab": {
      "provenance": []
    },
    "kernelspec": {
      "name": "python3",
      "display_name": "Python 3"
    },
    "language_info": {
      "name": "python"
    }
  },
  "cells": [
    {
      "cell_type": "code",
      "execution_count": 1,
      "metadata": {
        "id": "kf4qrrSX6lpT"
      },
      "outputs": [],
      "source": [
        "import numpy as np\n",
        "import pandas as pd\n",
        "import datetime\n",
        "import math\n",
        "import matplotlib.pyplot as plt\n",
        "import seaborn as sns\n",
        "from sklearn.preprocessing import MinMaxScaler\n",
        "from tensorflow.keras.models import Sequential\n",
        "from tensorflow.keras.layers import Dense , LSTM\n",
        "from sklearn.metrics import mean_squared_error"
      ]
    },
    {
      "cell_type": "code",
      "source": [
        "Dataset_link='https://raw.githubusercontent.com/mwitiderrick/stockprice/master/NSE-TATAGLOBAL.csv'"
      ],
      "metadata": {
        "id": "ss2HiC-m6xAn"
      },
      "execution_count": 2,
      "outputs": []
    },
    {
      "cell_type": "code",
      "source": [
        "df= pd.read_csv(Dataset_link, parse_dates=True,)\n",
        "df.reset_index()\n",
        "df.head(6)"
      ],
      "metadata": {
        "colab": {
          "base_uri": "https://localhost:8080/",
          "height": 238
        },
        "id": "MzP_l8LC61uj",
        "outputId": "a3a11049-616f-4370-c6ef-987146e7404d"
      },
      "execution_count": 5,
      "outputs": [
        {
          "output_type": "execute_result",
          "data": {
            "text/plain": [
              "         Date    Open    High     Low    Last   Close  Total Trade Quantity  \\\n",
              "0  2018-09-28  234.05  235.95  230.20  233.50  233.75               3069914   \n",
              "1  2018-09-27  234.55  236.80  231.10  233.80  233.25               5082859   \n",
              "2  2018-09-26  240.00  240.00  232.50  235.00  234.25               2240909   \n",
              "3  2018-09-25  233.30  236.75  232.00  236.25  236.10               2349368   \n",
              "4  2018-09-24  233.55  239.20  230.75  234.00  233.30               3423509   \n",
              "5  2018-09-21  235.00  237.00  227.95  233.75  234.60               5395319   \n",
              "\n",
              "   Turnover (Lacs)  \n",
              "0          7162.35  \n",
              "1         11859.95  \n",
              "2          5248.60  \n",
              "3          5503.90  \n",
              "4          7999.55  \n",
              "5         12589.59  "
            ],
            "text/html": [
              "\n",
              "  <div id=\"df-9523d688-a9e0-461e-b8b0-3bde54cc0fb9\">\n",
              "    <div class=\"colab-df-container\">\n",
              "      <div>\n",
              "<style scoped>\n",
              "    .dataframe tbody tr th:only-of-type {\n",
              "        vertical-align: middle;\n",
              "    }\n",
              "\n",
              "    .dataframe tbody tr th {\n",
              "        vertical-align: top;\n",
              "    }\n",
              "\n",
              "    .dataframe thead th {\n",
              "        text-align: right;\n",
              "    }\n",
              "</style>\n",
              "<table border=\"1\" class=\"dataframe\">\n",
              "  <thead>\n",
              "    <tr style=\"text-align: right;\">\n",
              "      <th></th>\n",
              "      <th>Date</th>\n",
              "      <th>Open</th>\n",
              "      <th>High</th>\n",
              "      <th>Low</th>\n",
              "      <th>Last</th>\n",
              "      <th>Close</th>\n",
              "      <th>Total Trade Quantity</th>\n",
              "      <th>Turnover (Lacs)</th>\n",
              "    </tr>\n",
              "  </thead>\n",
              "  <tbody>\n",
              "    <tr>\n",
              "      <th>0</th>\n",
              "      <td>2018-09-28</td>\n",
              "      <td>234.05</td>\n",
              "      <td>235.95</td>\n",
              "      <td>230.20</td>\n",
              "      <td>233.50</td>\n",
              "      <td>233.75</td>\n",
              "      <td>3069914</td>\n",
              "      <td>7162.35</td>\n",
              "    </tr>\n",
              "    <tr>\n",
              "      <th>1</th>\n",
              "      <td>2018-09-27</td>\n",
              "      <td>234.55</td>\n",
              "      <td>236.80</td>\n",
              "      <td>231.10</td>\n",
              "      <td>233.80</td>\n",
              "      <td>233.25</td>\n",
              "      <td>5082859</td>\n",
              "      <td>11859.95</td>\n",
              "    </tr>\n",
              "    <tr>\n",
              "      <th>2</th>\n",
              "      <td>2018-09-26</td>\n",
              "      <td>240.00</td>\n",
              "      <td>240.00</td>\n",
              "      <td>232.50</td>\n",
              "      <td>235.00</td>\n",
              "      <td>234.25</td>\n",
              "      <td>2240909</td>\n",
              "      <td>5248.60</td>\n",
              "    </tr>\n",
              "    <tr>\n",
              "      <th>3</th>\n",
              "      <td>2018-09-25</td>\n",
              "      <td>233.30</td>\n",
              "      <td>236.75</td>\n",
              "      <td>232.00</td>\n",
              "      <td>236.25</td>\n",
              "      <td>236.10</td>\n",
              "      <td>2349368</td>\n",
              "      <td>5503.90</td>\n",
              "    </tr>\n",
              "    <tr>\n",
              "      <th>4</th>\n",
              "      <td>2018-09-24</td>\n",
              "      <td>233.55</td>\n",
              "      <td>239.20</td>\n",
              "      <td>230.75</td>\n",
              "      <td>234.00</td>\n",
              "      <td>233.30</td>\n",
              "      <td>3423509</td>\n",
              "      <td>7999.55</td>\n",
              "    </tr>\n",
              "    <tr>\n",
              "      <th>5</th>\n",
              "      <td>2018-09-21</td>\n",
              "      <td>235.00</td>\n",
              "      <td>237.00</td>\n",
              "      <td>227.95</td>\n",
              "      <td>233.75</td>\n",
              "      <td>234.60</td>\n",
              "      <td>5395319</td>\n",
              "      <td>12589.59</td>\n",
              "    </tr>\n",
              "  </tbody>\n",
              "</table>\n",
              "</div>\n",
              "      <button class=\"colab-df-convert\" onclick=\"convertToInteractive('df-9523d688-a9e0-461e-b8b0-3bde54cc0fb9')\"\n",
              "              title=\"Convert this dataframe to an interactive table.\"\n",
              "              style=\"display:none;\">\n",
              "        \n",
              "  <svg xmlns=\"http://www.w3.org/2000/svg\" height=\"24px\"viewBox=\"0 0 24 24\"\n",
              "       width=\"24px\">\n",
              "    <path d=\"M0 0h24v24H0V0z\" fill=\"none\"/>\n",
              "    <path d=\"M18.56 5.44l.94 2.06.94-2.06 2.06-.94-2.06-.94-.94-2.06-.94 2.06-2.06.94zm-11 1L8.5 8.5l.94-2.06 2.06-.94-2.06-.94L8.5 2.5l-.94 2.06-2.06.94zm10 10l.94 2.06.94-2.06 2.06-.94-2.06-.94-.94-2.06-.94 2.06-2.06.94z\"/><path d=\"M17.41 7.96l-1.37-1.37c-.4-.4-.92-.59-1.43-.59-.52 0-1.04.2-1.43.59L10.3 9.45l-7.72 7.72c-.78.78-.78 2.05 0 2.83L4 21.41c.39.39.9.59 1.41.59.51 0 1.02-.2 1.41-.59l7.78-7.78 2.81-2.81c.8-.78.8-2.07 0-2.86zM5.41 20L4 18.59l7.72-7.72 1.47 1.35L5.41 20z\"/>\n",
              "  </svg>\n",
              "      </button>\n",
              "      \n",
              "  <style>\n",
              "    .colab-df-container {\n",
              "      display:flex;\n",
              "      flex-wrap:wrap;\n",
              "      gap: 12px;\n",
              "    }\n",
              "\n",
              "    .colab-df-convert {\n",
              "      background-color: #E8F0FE;\n",
              "      border: none;\n",
              "      border-radius: 50%;\n",
              "      cursor: pointer;\n",
              "      display: none;\n",
              "      fill: #1967D2;\n",
              "      height: 32px;\n",
              "      padding: 0 0 0 0;\n",
              "      width: 32px;\n",
              "    }\n",
              "\n",
              "    .colab-df-convert:hover {\n",
              "      background-color: #E2EBFA;\n",
              "      box-shadow: 0px 1px 2px rgba(60, 64, 67, 0.3), 0px 1px 3px 1px rgba(60, 64, 67, 0.15);\n",
              "      fill: #174EA6;\n",
              "    }\n",
              "\n",
              "    [theme=dark] .colab-df-convert {\n",
              "      background-color: #3B4455;\n",
              "      fill: #D2E3FC;\n",
              "    }\n",
              "\n",
              "    [theme=dark] .colab-df-convert:hover {\n",
              "      background-color: #434B5C;\n",
              "      box-shadow: 0px 1px 3px 1px rgba(0, 0, 0, 0.15);\n",
              "      filter: drop-shadow(0px 1px 2px rgba(0, 0, 0, 0.3));\n",
              "      fill: #FFFFFF;\n",
              "    }\n",
              "  </style>\n",
              "\n",
              "      <script>\n",
              "        const buttonEl =\n",
              "          document.querySelector('#df-9523d688-a9e0-461e-b8b0-3bde54cc0fb9 button.colab-df-convert');\n",
              "        buttonEl.style.display =\n",
              "          google.colab.kernel.accessAllowed ? 'block' : 'none';\n",
              "\n",
              "        async function convertToInteractive(key) {\n",
              "          const element = document.querySelector('#df-9523d688-a9e0-461e-b8b0-3bde54cc0fb9');\n",
              "          const dataTable =\n",
              "            await google.colab.kernel.invokeFunction('convertToInteractive',\n",
              "                                                     [key], {});\n",
              "          if (!dataTable) return;\n",
              "\n",
              "          const docLinkHtml = 'Like what you see? Visit the ' +\n",
              "            '<a target=\"_blank\" href=https://colab.research.google.com/notebooks/data_table.ipynb>data table notebook</a>'\n",
              "            + ' to learn more about interactive tables.';\n",
              "          element.innerHTML = '';\n",
              "          dataTable['output_type'] = 'display_data';\n",
              "          await google.colab.output.renderOutput(dataTable, element);\n",
              "          const docLink = document.createElement('div');\n",
              "          docLink.innerHTML = docLinkHtml;\n",
              "          element.appendChild(docLink);\n",
              "        }\n",
              "      </script>\n",
              "    </div>\n",
              "  </div>\n",
              "  "
            ]
          },
          "metadata": {},
          "execution_count": 5
        }
      ]
    },
    {
      "cell_type": "code",
      "source": [
        "df.sample(6)"
      ],
      "metadata": {
        "colab": {
          "base_uri": "https://localhost:8080/",
          "height": 238
        },
        "id": "ZWaBKUi56_SG",
        "outputId": "8167f19a-60ba-474f-e190-97bbe8d12a84"
      },
      "execution_count": 6,
      "outputs": [
        {
          "output_type": "execute_result",
          "data": {
            "text/plain": [
              "            Date    Open    High     Low    Last   Close  \\\n",
              "309   2017-07-03  152.50  155.65  150.75  151.65  151.60   \n",
              "1414  2013-01-10  162.75  163.70  160.40  160.70  161.00   \n",
              "563   2016-06-22  125.60  128.65  124.70  127.00  127.25   \n",
              "1215  2013-10-29  163.30  164.20  160.25  162.25  162.40   \n",
              "1930  2010-12-16  114.80  115.50  113.00  115.00  115.15   \n",
              "1728  2011-10-10   83.20   86.45   83.00   85.75   85.65   \n",
              "\n",
              "      Total Trade Quantity  Turnover (Lacs)  \n",
              "309                8680232         13243.65  \n",
              "1414               1844488          2982.16  \n",
              "563                2792498          3546.81  \n",
              "1215               2067392          3350.14  \n",
              "1930                298756           341.57  \n",
              "1728               1401068          1197.17  "
            ],
            "text/html": [
              "\n",
              "  <div id=\"df-9fa4dfb3-243a-44d3-b725-6ec31749cac1\">\n",
              "    <div class=\"colab-df-container\">\n",
              "      <div>\n",
              "<style scoped>\n",
              "    .dataframe tbody tr th:only-of-type {\n",
              "        vertical-align: middle;\n",
              "    }\n",
              "\n",
              "    .dataframe tbody tr th {\n",
              "        vertical-align: top;\n",
              "    }\n",
              "\n",
              "    .dataframe thead th {\n",
              "        text-align: right;\n",
              "    }\n",
              "</style>\n",
              "<table border=\"1\" class=\"dataframe\">\n",
              "  <thead>\n",
              "    <tr style=\"text-align: right;\">\n",
              "      <th></th>\n",
              "      <th>Date</th>\n",
              "      <th>Open</th>\n",
              "      <th>High</th>\n",
              "      <th>Low</th>\n",
              "      <th>Last</th>\n",
              "      <th>Close</th>\n",
              "      <th>Total Trade Quantity</th>\n",
              "      <th>Turnover (Lacs)</th>\n",
              "    </tr>\n",
              "  </thead>\n",
              "  <tbody>\n",
              "    <tr>\n",
              "      <th>309</th>\n",
              "      <td>2017-07-03</td>\n",
              "      <td>152.50</td>\n",
              "      <td>155.65</td>\n",
              "      <td>150.75</td>\n",
              "      <td>151.65</td>\n",
              "      <td>151.60</td>\n",
              "      <td>8680232</td>\n",
              "      <td>13243.65</td>\n",
              "    </tr>\n",
              "    <tr>\n",
              "      <th>1414</th>\n",
              "      <td>2013-01-10</td>\n",
              "      <td>162.75</td>\n",
              "      <td>163.70</td>\n",
              "      <td>160.40</td>\n",
              "      <td>160.70</td>\n",
              "      <td>161.00</td>\n",
              "      <td>1844488</td>\n",
              "      <td>2982.16</td>\n",
              "    </tr>\n",
              "    <tr>\n",
              "      <th>563</th>\n",
              "      <td>2016-06-22</td>\n",
              "      <td>125.60</td>\n",
              "      <td>128.65</td>\n",
              "      <td>124.70</td>\n",
              "      <td>127.00</td>\n",
              "      <td>127.25</td>\n",
              "      <td>2792498</td>\n",
              "      <td>3546.81</td>\n",
              "    </tr>\n",
              "    <tr>\n",
              "      <th>1215</th>\n",
              "      <td>2013-10-29</td>\n",
              "      <td>163.30</td>\n",
              "      <td>164.20</td>\n",
              "      <td>160.25</td>\n",
              "      <td>162.25</td>\n",
              "      <td>162.40</td>\n",
              "      <td>2067392</td>\n",
              "      <td>3350.14</td>\n",
              "    </tr>\n",
              "    <tr>\n",
              "      <th>1930</th>\n",
              "      <td>2010-12-16</td>\n",
              "      <td>114.80</td>\n",
              "      <td>115.50</td>\n",
              "      <td>113.00</td>\n",
              "      <td>115.00</td>\n",
              "      <td>115.15</td>\n",
              "      <td>298756</td>\n",
              "      <td>341.57</td>\n",
              "    </tr>\n",
              "    <tr>\n",
              "      <th>1728</th>\n",
              "      <td>2011-10-10</td>\n",
              "      <td>83.20</td>\n",
              "      <td>86.45</td>\n",
              "      <td>83.00</td>\n",
              "      <td>85.75</td>\n",
              "      <td>85.65</td>\n",
              "      <td>1401068</td>\n",
              "      <td>1197.17</td>\n",
              "    </tr>\n",
              "  </tbody>\n",
              "</table>\n",
              "</div>\n",
              "      <button class=\"colab-df-convert\" onclick=\"convertToInteractive('df-9fa4dfb3-243a-44d3-b725-6ec31749cac1')\"\n",
              "              title=\"Convert this dataframe to an interactive table.\"\n",
              "              style=\"display:none;\">\n",
              "        \n",
              "  <svg xmlns=\"http://www.w3.org/2000/svg\" height=\"24px\"viewBox=\"0 0 24 24\"\n",
              "       width=\"24px\">\n",
              "    <path d=\"M0 0h24v24H0V0z\" fill=\"none\"/>\n",
              "    <path d=\"M18.56 5.44l.94 2.06.94-2.06 2.06-.94-2.06-.94-.94-2.06-.94 2.06-2.06.94zm-11 1L8.5 8.5l.94-2.06 2.06-.94-2.06-.94L8.5 2.5l-.94 2.06-2.06.94zm10 10l.94 2.06.94-2.06 2.06-.94-2.06-.94-.94-2.06-.94 2.06-2.06.94z\"/><path d=\"M17.41 7.96l-1.37-1.37c-.4-.4-.92-.59-1.43-.59-.52 0-1.04.2-1.43.59L10.3 9.45l-7.72 7.72c-.78.78-.78 2.05 0 2.83L4 21.41c.39.39.9.59 1.41.59.51 0 1.02-.2 1.41-.59l7.78-7.78 2.81-2.81c.8-.78.8-2.07 0-2.86zM5.41 20L4 18.59l7.72-7.72 1.47 1.35L5.41 20z\"/>\n",
              "  </svg>\n",
              "      </button>\n",
              "      \n",
              "  <style>\n",
              "    .colab-df-container {\n",
              "      display:flex;\n",
              "      flex-wrap:wrap;\n",
              "      gap: 12px;\n",
              "    }\n",
              "\n",
              "    .colab-df-convert {\n",
              "      background-color: #E8F0FE;\n",
              "      border: none;\n",
              "      border-radius: 50%;\n",
              "      cursor: pointer;\n",
              "      display: none;\n",
              "      fill: #1967D2;\n",
              "      height: 32px;\n",
              "      padding: 0 0 0 0;\n",
              "      width: 32px;\n",
              "    }\n",
              "\n",
              "    .colab-df-convert:hover {\n",
              "      background-color: #E2EBFA;\n",
              "      box-shadow: 0px 1px 2px rgba(60, 64, 67, 0.3), 0px 1px 3px 1px rgba(60, 64, 67, 0.15);\n",
              "      fill: #174EA6;\n",
              "    }\n",
              "\n",
              "    [theme=dark] .colab-df-convert {\n",
              "      background-color: #3B4455;\n",
              "      fill: #D2E3FC;\n",
              "    }\n",
              "\n",
              "    [theme=dark] .colab-df-convert:hover {\n",
              "      background-color: #434B5C;\n",
              "      box-shadow: 0px 1px 3px 1px rgba(0, 0, 0, 0.15);\n",
              "      filter: drop-shadow(0px 1px 2px rgba(0, 0, 0, 0.3));\n",
              "      fill: #FFFFFF;\n",
              "    }\n",
              "  </style>\n",
              "\n",
              "      <script>\n",
              "        const buttonEl =\n",
              "          document.querySelector('#df-9fa4dfb3-243a-44d3-b725-6ec31749cac1 button.colab-df-convert');\n",
              "        buttonEl.style.display =\n",
              "          google.colab.kernel.accessAllowed ? 'block' : 'none';\n",
              "\n",
              "        async function convertToInteractive(key) {\n",
              "          const element = document.querySelector('#df-9fa4dfb3-243a-44d3-b725-6ec31749cac1');\n",
              "          const dataTable =\n",
              "            await google.colab.kernel.invokeFunction('convertToInteractive',\n",
              "                                                     [key], {});\n",
              "          if (!dataTable) return;\n",
              "\n",
              "          const docLinkHtml = 'Like what you see? Visit the ' +\n",
              "            '<a target=\"_blank\" href=https://colab.research.google.com/notebooks/data_table.ipynb>data table notebook</a>'\n",
              "            + ' to learn more about interactive tables.';\n",
              "          element.innerHTML = '';\n",
              "          dataTable['output_type'] = 'display_data';\n",
              "          await google.colab.output.renderOutput(dataTable, element);\n",
              "          const docLink = document.createElement('div');\n",
              "          docLink.innerHTML = docLinkHtml;\n",
              "          element.appendChild(docLink);\n",
              "        }\n",
              "      </script>\n",
              "    </div>\n",
              "  </div>\n",
              "  "
            ]
          },
          "metadata": {},
          "execution_count": 6
        }
      ]
    },
    {
      "cell_type": "code",
      "source": [
        "df.columns"
      ],
      "metadata": {
        "colab": {
          "base_uri": "https://localhost:8080/"
        },
        "id": "yI7fXPp07FYQ",
        "outputId": "c6e83db5-4831-4812-e701-6e213c4542ae"
      },
      "execution_count": 7,
      "outputs": [
        {
          "output_type": "execute_result",
          "data": {
            "text/plain": [
              "Index(['Date', 'Open', 'High', 'Low', 'Last', 'Close', 'Total Trade Quantity',\n",
              "       'Turnover (Lacs)'],\n",
              "      dtype='object')"
            ]
          },
          "metadata": {},
          "execution_count": 7
        }
      ]
    },
    {
      "cell_type": "code",
      "source": [
        "df.shape"
      ],
      "metadata": {
        "colab": {
          "base_uri": "https://localhost:8080/"
        },
        "id": "EHO_mhKy7MRM",
        "outputId": "9f8f86ef-ef5f-4d06-b17d-45d8bdca9751"
      },
      "execution_count": 8,
      "outputs": [
        {
          "output_type": "execute_result",
          "data": {
            "text/plain": [
              "(2035, 8)"
            ]
          },
          "metadata": {},
          "execution_count": 8
        }
      ]
    },
    {
      "cell_type": "code",
      "source": [
        "df.info()"
      ],
      "metadata": {
        "colab": {
          "base_uri": "https://localhost:8080/"
        },
        "id": "uUjoFFm87P_C",
        "outputId": "cce462e2-3da6-44f0-b901-21facf53689e"
      },
      "execution_count": 11,
      "outputs": [
        {
          "output_type": "stream",
          "name": "stdout",
          "text": [
            "<class 'pandas.core.frame.DataFrame'>\n",
            "RangeIndex: 2035 entries, 0 to 2034\n",
            "Data columns (total 8 columns):\n",
            " #   Column                Non-Null Count  Dtype  \n",
            "---  ------                --------------  -----  \n",
            " 0   Date                  2035 non-null   object \n",
            " 1   Open                  2035 non-null   float64\n",
            " 2   High                  2035 non-null   float64\n",
            " 3   Low                   2035 non-null   float64\n",
            " 4   Last                  2035 non-null   float64\n",
            " 5   Close                 2035 non-null   float64\n",
            " 6   Total Trade Quantity  2035 non-null   int64  \n",
            " 7   Turnover (Lacs)       2035 non-null   float64\n",
            "dtypes: float64(6), int64(1), object(1)\n",
            "memory usage: 127.3+ KB\n"
          ]
        }
      ]
    },
    {
      "cell_type": "code",
      "source": [
        "df.isnull().sum()"
      ],
      "metadata": {
        "colab": {
          "base_uri": "https://localhost:8080/"
        },
        "id": "JvH_6S3Z7XfJ",
        "outputId": "8b4d993c-da69-4294-bbc8-fad88cb3e07f"
      },
      "execution_count": 12,
      "outputs": [
        {
          "output_type": "execute_result",
          "data": {
            "text/plain": [
              "Date                    0\n",
              "Open                    0\n",
              "High                    0\n",
              "Low                     0\n",
              "Last                    0\n",
              "Close                   0\n",
              "Total Trade Quantity    0\n",
              "Turnover (Lacs)         0\n",
              "dtype: int64"
            ]
          },
          "metadata": {},
          "execution_count": 12
        }
      ]
    },
    {
      "cell_type": "code",
      "source": [
        "df.describe()"
      ],
      "metadata": {
        "colab": {
          "base_uri": "https://localhost:8080/",
          "height": 300
        },
        "id": "S7jFj74V7pJd",
        "outputId": "d9561228-9c78-40d6-b3a8-7a5c7afbfd82"
      },
      "execution_count": 13,
      "outputs": [
        {
          "output_type": "execute_result",
          "data": {
            "text/plain": [
              "              Open         High          Low         Last       Close  \\\n",
              "count  2035.000000  2035.000000  2035.000000  2035.000000  2035.00000   \n",
              "mean    149.713735   151.992826   147.293931   149.474251   149.45027   \n",
              "std      48.664509    49.413109    47.931958    48.732570    48.71204   \n",
              "min      81.100000    82.800000    80.000000    81.000000    80.95000   \n",
              "25%     120.025000   122.100000   118.300000   120.075000   120.05000   \n",
              "50%     141.500000   143.400000   139.600000   141.100000   141.25000   \n",
              "75%     157.175000   159.400000   155.150000   156.925000   156.90000   \n",
              "max     327.700000   328.750000   321.650000   325.950000   325.75000   \n",
              "\n",
              "       Total Trade Quantity  Turnover (Lacs)  \n",
              "count          2.035000e+03      2035.000000  \n",
              "mean           2.335681e+06      3899.980565  \n",
              "std            2.091778e+06      4570.767877  \n",
              "min            3.961000e+04        37.040000  \n",
              "25%            1.146444e+06      1427.460000  \n",
              "50%            1.783456e+06      2512.030000  \n",
              "75%            2.813594e+06      4539.015000  \n",
              "max            2.919102e+07     55755.080000  "
            ],
            "text/html": [
              "\n",
              "  <div id=\"df-82babee0-06ef-4d55-bb46-1616d635b3d9\">\n",
              "    <div class=\"colab-df-container\">\n",
              "      <div>\n",
              "<style scoped>\n",
              "    .dataframe tbody tr th:only-of-type {\n",
              "        vertical-align: middle;\n",
              "    }\n",
              "\n",
              "    .dataframe tbody tr th {\n",
              "        vertical-align: top;\n",
              "    }\n",
              "\n",
              "    .dataframe thead th {\n",
              "        text-align: right;\n",
              "    }\n",
              "</style>\n",
              "<table border=\"1\" class=\"dataframe\">\n",
              "  <thead>\n",
              "    <tr style=\"text-align: right;\">\n",
              "      <th></th>\n",
              "      <th>Open</th>\n",
              "      <th>High</th>\n",
              "      <th>Low</th>\n",
              "      <th>Last</th>\n",
              "      <th>Close</th>\n",
              "      <th>Total Trade Quantity</th>\n",
              "      <th>Turnover (Lacs)</th>\n",
              "    </tr>\n",
              "  </thead>\n",
              "  <tbody>\n",
              "    <tr>\n",
              "      <th>count</th>\n",
              "      <td>2035.000000</td>\n",
              "      <td>2035.000000</td>\n",
              "      <td>2035.000000</td>\n",
              "      <td>2035.000000</td>\n",
              "      <td>2035.00000</td>\n",
              "      <td>2.035000e+03</td>\n",
              "      <td>2035.000000</td>\n",
              "    </tr>\n",
              "    <tr>\n",
              "      <th>mean</th>\n",
              "      <td>149.713735</td>\n",
              "      <td>151.992826</td>\n",
              "      <td>147.293931</td>\n",
              "      <td>149.474251</td>\n",
              "      <td>149.45027</td>\n",
              "      <td>2.335681e+06</td>\n",
              "      <td>3899.980565</td>\n",
              "    </tr>\n",
              "    <tr>\n",
              "      <th>std</th>\n",
              "      <td>48.664509</td>\n",
              "      <td>49.413109</td>\n",
              "      <td>47.931958</td>\n",
              "      <td>48.732570</td>\n",
              "      <td>48.71204</td>\n",
              "      <td>2.091778e+06</td>\n",
              "      <td>4570.767877</td>\n",
              "    </tr>\n",
              "    <tr>\n",
              "      <th>min</th>\n",
              "      <td>81.100000</td>\n",
              "      <td>82.800000</td>\n",
              "      <td>80.000000</td>\n",
              "      <td>81.000000</td>\n",
              "      <td>80.95000</td>\n",
              "      <td>3.961000e+04</td>\n",
              "      <td>37.040000</td>\n",
              "    </tr>\n",
              "    <tr>\n",
              "      <th>25%</th>\n",
              "      <td>120.025000</td>\n",
              "      <td>122.100000</td>\n",
              "      <td>118.300000</td>\n",
              "      <td>120.075000</td>\n",
              "      <td>120.05000</td>\n",
              "      <td>1.146444e+06</td>\n",
              "      <td>1427.460000</td>\n",
              "    </tr>\n",
              "    <tr>\n",
              "      <th>50%</th>\n",
              "      <td>141.500000</td>\n",
              "      <td>143.400000</td>\n",
              "      <td>139.600000</td>\n",
              "      <td>141.100000</td>\n",
              "      <td>141.25000</td>\n",
              "      <td>1.783456e+06</td>\n",
              "      <td>2512.030000</td>\n",
              "    </tr>\n",
              "    <tr>\n",
              "      <th>75%</th>\n",
              "      <td>157.175000</td>\n",
              "      <td>159.400000</td>\n",
              "      <td>155.150000</td>\n",
              "      <td>156.925000</td>\n",
              "      <td>156.90000</td>\n",
              "      <td>2.813594e+06</td>\n",
              "      <td>4539.015000</td>\n",
              "    </tr>\n",
              "    <tr>\n",
              "      <th>max</th>\n",
              "      <td>327.700000</td>\n",
              "      <td>328.750000</td>\n",
              "      <td>321.650000</td>\n",
              "      <td>325.950000</td>\n",
              "      <td>325.75000</td>\n",
              "      <td>2.919102e+07</td>\n",
              "      <td>55755.080000</td>\n",
              "    </tr>\n",
              "  </tbody>\n",
              "</table>\n",
              "</div>\n",
              "      <button class=\"colab-df-convert\" onclick=\"convertToInteractive('df-82babee0-06ef-4d55-bb46-1616d635b3d9')\"\n",
              "              title=\"Convert this dataframe to an interactive table.\"\n",
              "              style=\"display:none;\">\n",
              "        \n",
              "  <svg xmlns=\"http://www.w3.org/2000/svg\" height=\"24px\"viewBox=\"0 0 24 24\"\n",
              "       width=\"24px\">\n",
              "    <path d=\"M0 0h24v24H0V0z\" fill=\"none\"/>\n",
              "    <path d=\"M18.56 5.44l.94 2.06.94-2.06 2.06-.94-2.06-.94-.94-2.06-.94 2.06-2.06.94zm-11 1L8.5 8.5l.94-2.06 2.06-.94-2.06-.94L8.5 2.5l-.94 2.06-2.06.94zm10 10l.94 2.06.94-2.06 2.06-.94-2.06-.94-.94-2.06-.94 2.06-2.06.94z\"/><path d=\"M17.41 7.96l-1.37-1.37c-.4-.4-.92-.59-1.43-.59-.52 0-1.04.2-1.43.59L10.3 9.45l-7.72 7.72c-.78.78-.78 2.05 0 2.83L4 21.41c.39.39.9.59 1.41.59.51 0 1.02-.2 1.41-.59l7.78-7.78 2.81-2.81c.8-.78.8-2.07 0-2.86zM5.41 20L4 18.59l7.72-7.72 1.47 1.35L5.41 20z\"/>\n",
              "  </svg>\n",
              "      </button>\n",
              "      \n",
              "  <style>\n",
              "    .colab-df-container {\n",
              "      display:flex;\n",
              "      flex-wrap:wrap;\n",
              "      gap: 12px;\n",
              "    }\n",
              "\n",
              "    .colab-df-convert {\n",
              "      background-color: #E8F0FE;\n",
              "      border: none;\n",
              "      border-radius: 50%;\n",
              "      cursor: pointer;\n",
              "      display: none;\n",
              "      fill: #1967D2;\n",
              "      height: 32px;\n",
              "      padding: 0 0 0 0;\n",
              "      width: 32px;\n",
              "    }\n",
              "\n",
              "    .colab-df-convert:hover {\n",
              "      background-color: #E2EBFA;\n",
              "      box-shadow: 0px 1px 2px rgba(60, 64, 67, 0.3), 0px 1px 3px 1px rgba(60, 64, 67, 0.15);\n",
              "      fill: #174EA6;\n",
              "    }\n",
              "\n",
              "    [theme=dark] .colab-df-convert {\n",
              "      background-color: #3B4455;\n",
              "      fill: #D2E3FC;\n",
              "    }\n",
              "\n",
              "    [theme=dark] .colab-df-convert:hover {\n",
              "      background-color: #434B5C;\n",
              "      box-shadow: 0px 1px 3px 1px rgba(0, 0, 0, 0.15);\n",
              "      filter: drop-shadow(0px 1px 2px rgba(0, 0, 0, 0.3));\n",
              "      fill: #FFFFFF;\n",
              "    }\n",
              "  </style>\n",
              "\n",
              "      <script>\n",
              "        const buttonEl =\n",
              "          document.querySelector('#df-82babee0-06ef-4d55-bb46-1616d635b3d9 button.colab-df-convert');\n",
              "        buttonEl.style.display =\n",
              "          google.colab.kernel.accessAllowed ? 'block' : 'none';\n",
              "\n",
              "        async function convertToInteractive(key) {\n",
              "          const element = document.querySelector('#df-82babee0-06ef-4d55-bb46-1616d635b3d9');\n",
              "          const dataTable =\n",
              "            await google.colab.kernel.invokeFunction('convertToInteractive',\n",
              "                                                     [key], {});\n",
              "          if (!dataTable) return;\n",
              "\n",
              "          const docLinkHtml = 'Like what you see? Visit the ' +\n",
              "            '<a target=\"_blank\" href=https://colab.research.google.com/notebooks/data_table.ipynb>data table notebook</a>'\n",
              "            + ' to learn more about interactive tables.';\n",
              "          element.innerHTML = '';\n",
              "          dataTable['output_type'] = 'display_data';\n",
              "          await google.colab.output.renderOutput(dataTable, element);\n",
              "          const docLink = document.createElement('div');\n",
              "          docLink.innerHTML = docLinkHtml;\n",
              "          element.appendChild(docLink);\n",
              "        }\n",
              "      </script>\n",
              "    </div>\n",
              "  </div>\n",
              "  "
            ]
          },
          "metadata": {},
          "execution_count": 13
        }
      ]
    },
    {
      "cell_type": "code",
      "source": [
        "plt.figure(figsize=(10,6))\n",
        "df['Open'].plot(kind='line',figsize=(16,7),color='y',label=\"Opening Price\")\n",
        "\n",
        "plt.ylabel(\"Price\")\n",
        "plt.legend(loc=\"upper left\")\n",
        "plt.title(\"Change in opening price over the years\")\n",
        "plt.grid()"
      ],
      "metadata": {
        "colab": {
          "base_uri": "https://localhost:8080/",
          "height": 444
        },
        "id": "6rNh0mwQ77tx",
        "outputId": "dab673ef-c7e4-4dcf-8be9-8125caf8bca5"
      },
      "execution_count": 15,
      "outputs": [
        {
          "output_type": "display_data",
          "data": {
            "text/plain": [
              "<Figure size 1152x504 with 1 Axes>"
            ],
            "image/png": "[encoded data removed]"
          },
          "metadata": {
            "needs_background": "light"
          }
        }
      ]
    },
    {
      "cell_type": "code",
      "source": [
        "plt.figure(figsize=(10,6))\n",
        "df['Close'].plot(kind='line',figsize=(16,7),color='r',label=\"Closing Price\")\n",
        "\n",
        "plt.ylabel(\"Price\")\n",
        "plt.legend(loc=\"upper right\")\n",
        "plt.title(\"Change in price over the years\")\n",
        "plt.grid()"
      ],
      "metadata": {
        "colab": {
          "base_uri": "https://localhost:8080/",
          "height": 444
        },
        "id": "3G9CwEAG7slt",
        "outputId": "1d7bc213-0d07-4406-bdcf-93892c5b781a"
      },
      "execution_count": 14,
      "outputs": [
        {
          "output_type": "display_data",
          "data": {
            "text/plain": [
              "<Figure size 1152x504 with 1 Axes>"
            ],
            "image/png": "[encoded data removed]"
          },
          "metadata": {
            "needs_background": "light"
          }
        }
      ]
    },
    {
      "cell_type": "code",
      "source": [
        "df1=df.reset_index()['Close']\n",
        "df1"
      ],
      "metadata": {
        "colab": {
          "base_uri": "https://localhost:8080/"
        },
        "id": "0whYnLC78E6K",
        "outputId": "6b4426c5-e972-4966-a634-35fd0ee658b1"
      },
      "execution_count": 16,
      "outputs": [
        {
          "output_type": "execute_result",
          "data": {
            "text/plain": [
              "0       233.75\n",
              "1       233.25\n",
              "2       234.25\n",
              "3       236.10\n",
              "4       233.30\n",
              "         ...  \n",
              "2030    118.65\n",
              "2031    117.60\n",
              "2032    120.65\n",
              "2033    120.90\n",
              "2034    121.55\n",
              "Name: Close, Length: 2035, dtype: float64"
            ]
          },
          "metadata": {},
          "execution_count": 16
        }
      ]
    },
    {
      "cell_type": "code",
      "source": [
        "plt.figure(figsize=(12,5))\n",
        "sns.heatmap(df.corr(),annot=True,cmap='BrBG')"
      ],
      "metadata": {
        "colab": {
          "base_uri": "https://localhost:8080/",
          "height": 430
        },
        "id": "VgPeXoae8JYg",
        "outputId": "fa6cf9ac-b791-4808-8f03-2f8e999975f9"
      },
      "execution_count": 21,
      "outputs": [
        {
          "output_type": "execute_result",
          "data": {
            "text/plain": [
              "<matplotlib.axes._subplots.AxesSubplot at 0x7fbd9a4f9a90>"
            ]
          },
          "metadata": {},
          "execution_count": 21
        },
        {
          "output_type": "display_data",
          "data": {
            "text/plain": [
              "<Figure size 864x360 with 2 Axes>"
            ],
            "image/png": "[encoded data removed]"
          },
          "metadata": {
            "needs_background": "light"
          }
        }
      ]
    },
    {
      "cell_type": "code",
      "source": [
        "plt.figure(figsize=(11,5))\n",
        "plt.subplot(1,2,1)\n",
        "sns.boxplot(data=df,y='Total Trade Quantity',color='blue')\n",
        "plt.subplot(1,2,2)\n",
        "sns.boxplot(data=df,y='Turnover (Lacs)',color='pink')"
      ],
      "metadata": {
        "colab": {
          "base_uri": "https://localhost:8080/",
          "height": 334
        },
        "id": "8tRFQ3QV9C1C",
        "outputId": "da811119-babd-479a-8bc7-fddfcca49705"
      },
      "execution_count": 25,
      "outputs": [
        {
          "output_type": "execute_result",
          "data": {
            "text/plain": [
              "<matplotlib.axes._subplots.AxesSubplot at 0x7fbd9a11f310>"
            ]
          },
          "metadata": {},
          "execution_count": 25
        },
        {
          "output_type": "display_data",
          "data": {
            "text/plain": [
              "<Figure size 792x360 with 2 Axes>"
            ],
            "image/png": "[encoded data removed]"
          },
          "metadata": {
            "needs_background": "light"
          }
        }
      ]
    },
    {
      "cell_type": "code",
      "source": [
        "fig=plt.figure(figsize=(7,6))\n",
        "plt.scatter(df['Total Trade Quantity'],df['Turnover (Lacs)'], alpha=0.5, edgecolor='w', color='green')\n",
        "plt.xlabel(\"Trade Quantity (in 100000)\")\n",
        "plt.ylabel(\"Turnover (in lacs)\")\n",
        "plt.title(\" Selling Units Vs Turnover\")\n",
        "plt.show()"
      ],
      "metadata": {
        "colab": {
          "base_uri": "https://localhost:8080/",
          "height": 404
        },
        "id": "HaHPc5lD9aOt",
        "outputId": "145cae18-2cff-429f-f6f5-83f82026eb96"
      },
      "execution_count": 29,
      "outputs": [
        {
          "output_type": "display_data",
          "data": {
            "text/plain": [
              "<Figure size 504x432 with 1 Axes>"
            ],
            "image/png": "[encoded data removed]"
          },
          "metadata": {
            "needs_background": "light"
          }
        }
      ]
    },
    {
      "cell_type": "code",
      "source": [
        "training_set= df[['Open']]\n",
        "training_set=pd.DataFrame(training_set)\n",
        "training_set"
      ],
      "metadata": {
        "colab": {
          "base_uri": "https://localhost:8080/",
          "height": 655
        },
        "id": "addwCM-Z9uZ1",
        "outputId": "f6a56ad3-571e-49ef-9d38-5318d04231ee"
      },
      "execution_count": 30,
      "outputs": [
        {
          "output_type": "execute_result",
          "data": {
            "text/plain": [
              "        Open\n",
              "0     234.05\n",
              "1     234.55\n",
              "2     240.00\n",
              "3     233.30\n",
              "4     233.55\n",
              "...      ...\n",
              "2030  117.60\n",
              "2031  120.10\n",
              "2032  121.80\n",
              "2033  120.30\n",
              "2034  122.10\n",
              "\n",
              "[2035 rows x 1 columns]"
            ],
            "text/html": [
              "\n",
              "  <div id=\"df-14d7d050-0f40-4abf-aa9e-156df6476a6b\">\n",
              "    <div class=\"colab-df-container\">\n",
              "      <div>\n",
              "<style scoped>\n",
              "    .dataframe tbody tr th:only-of-type {\n",
              "        vertical-align: middle;\n",
              "    }\n",
              "\n",
              "    .dataframe tbody tr th {\n",
              "        vertical-align: top;\n",
              "    }\n",
              "\n",
              "    .dataframe thead th {\n",
              "        text-align: right;\n",
              "    }\n",
              "</style>\n",
              "<table border=\"1\" class=\"dataframe\">\n",
              "  <thead>\n",
              "    <tr style=\"text-align: right;\">\n",
              "      <th></th>\n",
              "      <th>Open</th>\n",
              "    </tr>\n",
              "  </thead>\n",
              "  <tbody>\n",
              "    <tr>\n",
              "      <th>0</th>\n",
              "      <td>234.05</td>\n",
              "    </tr>\n",
              "    <tr>\n",
              "      <th>1</th>\n",
              "      <td>234.55</td>\n",
              "    </tr>\n",
              "    <tr>\n",
              "      <th>2</th>\n",
              "      <td>240.00</td>\n",
              "    </tr>\n",
              "    <tr>\n",
              "      <th>3</th>\n",
              "      <td>233.30</td>\n",
              "    </tr>\n",
              "    <tr>\n",
              "      <th>4</th>\n",
              "      <td>233.55</td>\n",
              "    </tr>\n",
              "    <tr>\n",
              "      <th>...</th>\n",
              "      <td>...</td>\n",
              "    </tr>\n",
              "    <tr>\n",
              "      <th>2030</th>\n",
              "      <td>117.60</td>\n",
              "    </tr>\n",
              "    <tr>\n",
              "      <th>2031</th>\n",
              "      <td>120.10</td>\n",
              "    </tr>\n",
              "    <tr>\n",
              "      <th>2032</th>\n",
              "      <td>121.80</td>\n",
              "    </tr>\n",
              "    <tr>\n",
              "      <th>2033</th>\n",
              "      <td>120.30</td>\n",
              "    </tr>\n",
              "    <tr>\n",
              "      <th>2034</th>\n",
              "      <td>122.10</td>\n",
              "    </tr>\n",
              "  </tbody>\n",
              "</table>\n",
              "<p>2035 rows × 1 columns</p>\n",
              "</div>\n",
              "      <button class=\"colab-df-convert\" onclick=\"convertToInteractive('df-14d7d050-0f40-4abf-aa9e-156df6476a6b')\"\n",
              "              title=\"Convert this dataframe to an interactive table.\"\n",
              "              style=\"display:none;\">\n",
              "        \n",
              "  <svg xmlns=\"http://www.w3.org/2000/svg\" height=\"24px\"viewBox=\"0 0 24 24\"\n",
              "       width=\"24px\">\n",
              "    <path d=\"M0 0h24v24H0V0z\" fill=\"none\"/>\n",
              "    <path d=\"M18.56 5.44l.94 2.06.94-2.06 2.06-.94-2.06-.94-.94-2.06-.94 2.06-2.06.94zm-11 1L8.5 8.5l.94-2.06 2.06-.94-2.06-.94L8.5 2.5l-.94 2.06-2.06.94zm10 10l.94 2.06.94-2.06 2.06-.94-2.06-.94-.94-2.06-.94 2.06-2.06.94z\"/><path d=\"M17.41 7.96l-1.37-1.37c-.4-.4-.92-.59-1.43-.59-.52 0-1.04.2-1.43.59L10.3 9.45l-7.72 7.72c-.78.78-.78 2.05 0 2.83L4 21.41c.39.39.9.59 1.41.59.51 0 1.02-.2 1.41-.59l7.78-7.78 2.81-2.81c.8-.78.8-2.07 0-2.86zM5.41 20L4 18.59l7.72-7.72 1.47 1.35L5.41 20z\"/>\n",
              "  </svg>\n",
              "      </button>\n",
              "      \n",
              "  <style>\n",
              "    .colab-df-container {\n",
              "      display:flex;\n",
              "      flex-wrap:wrap;\n",
              "      gap: 12px;\n",
              "    }\n",
              "\n",
              "    .colab-df-convert {\n",
              "      background-color: #E8F0FE;\n",
              "      border: none;\n",
              "      border-radius: 50%;\n",
              "      cursor: pointer;\n",
              "      display: none;\n",
              "      fill: #1967D2;\n",
              "      height: 32px;\n",
              "      padding: 0 0 0 0;\n",
              "      width: 32px;\n",
              "    }\n",
              "\n",
              "    .colab-df-convert:hover {\n",
              "      background-color: #E2EBFA;\n",
              "      box-shadow: 0px 1px 2px rgba(60, 64, 67, 0.3), 0px 1px 3px 1px rgba(60, 64, 67, 0.15);\n",
              "      fill: #174EA6;\n",
              "    }\n",
              "\n",
              "    [theme=dark] .colab-df-convert {\n",
              "      background-color: #3B4455;\n",
              "      fill: #D2E3FC;\n",
              "    }\n",
              "\n",
              "    [theme=dark] .colab-df-convert:hover {\n",
              "      background-color: #434B5C;\n",
              "      box-shadow: 0px 1px 3px 1px rgba(0, 0, 0, 0.15);\n",
              "      filter: drop-shadow(0px 1px 2px rgba(0, 0, 0, 0.3));\n",
              "      fill: #FFFFFF;\n",
              "    }\n",
              "  </style>\n",
              "\n",
              "      <script>\n",
              "        const buttonEl =\n",
              "          document.querySelector('#df-14d7d050-0f40-4abf-aa9e-156df6476a6b button.colab-df-convert');\n",
              "        buttonEl.style.display =\n",
              "          google.colab.kernel.accessAllowed ? 'block' : 'none';\n",
              "\n",
              "        async function convertToInteractive(key) {\n",
              "          const element = document.querySelector('#df-14d7d050-0f40-4abf-aa9e-156df6476a6b');\n",
              "          const dataTable =\n",
              "            await google.colab.kernel.invokeFunction('convertToInteractive',\n",
              "                                                     [key], {});\n",
              "          if (!dataTable) return;\n",
              "\n",
              "          const docLinkHtml = 'Like what you see? Visit the ' +\n",
              "            '<a target=\"_blank\" href=https://colab.research.google.com/notebooks/data_table.ipynb>data table notebook</a>'\n",
              "            + ' to learn more about interactive tables.';\n",
              "          element.innerHTML = '';\n",
              "          dataTable['output_type'] = 'display_data';\n",
              "          await google.colab.output.renderOutput(dataTable, element);\n",
              "          const docLink = document.createElement('div');\n",
              "          docLink.innerHTML = docLinkHtml;\n",
              "          element.appendChild(docLink);\n",
              "        }\n",
              "      </script>\n",
              "    </div>\n",
              "  </div>\n",
              "  "
            ]
          },
          "metadata": {},
          "execution_count": 30
        }
      ]
    },
    {
      "cell_type": "code",
      "source": [
        "scaler=MinMaxScaler(feature_range=(0,1))\n",
        "training_set_scaler=scaler.fit_transform(np.array(df1).reshape(-1,1))"
      ],
      "metadata": {
        "id": "5_6BW-rb92N-"
      },
      "execution_count": 31,
      "outputs": []
    },
    {
      "cell_type": "code",
      "source": [
        "training_set_scaler"
      ],
      "metadata": {
        "colab": {
          "base_uri": "https://localhost:8080/"
        },
        "id": "OGzbxRVq95NB",
        "outputId": "7b2d4289-f9bd-452f-be19-ed21e2dd0a5e"
      },
      "execution_count": 32,
      "outputs": [
        {
          "output_type": "execute_result",
          "data": {
            "text/plain": [
              "array([[0.62418301],\n",
              "       [0.62214052],\n",
              "       [0.62622549],\n",
              "       ...,\n",
              "       [0.1621732 ],\n",
              "       [0.16319444],\n",
              "       [0.16584967]])"
            ]
          },
          "metadata": {},
          "execution_count": 32
        }
      ]
    },
    {
      "cell_type": "code",
      "source": [
        "train_size1= int(len(training_set_scaler)*0.65)\n",
        "test_size1=int(len(training_set_scaler))-train_size1\n",
        "train_data1,test_data1=training_set_scaler[0:train_size1,:],training_set_scaler[train_size1:len(df),:1] "
      ],
      "metadata": {
        "id": "DjIGhPyc-AZE"
      },
      "execution_count": 33,
      "outputs": []
    },
    {
      "cell_type": "code",
      "source": [
        "train_size1"
      ],
      "metadata": {
        "colab": {
          "base_uri": "https://localhost:8080/"
        },
        "id": "pP83HNDR-Ddv",
        "outputId": "3d2357e5-e6c0-41d2-9c00-2423afc72559"
      },
      "execution_count": 34,
      "outputs": [
        {
          "output_type": "execute_result",
          "data": {
            "text/plain": [
              "1322"
            ]
          },
          "metadata": {},
          "execution_count": 34
        }
      ]
    },
    {
      "cell_type": "code",
      "source": [
        "def create_dataset(dataset,time_step=1):\n",
        "    dataX, dataY = [], []\n",
        "    for i in range(len(dataset)-time_step-1):\n",
        "        a = dataset[i:(i+time_step), 0]   ###i=0, 0,1,2,3-----99   100 \n",
        "        dataX.append(a)\n",
        "        dataY.append(dataset[i + time_step, 0])\n",
        "    return np.array(dataX), np.array(dataY)"
      ],
      "metadata": {
        "id": "3KUyTTCx-G55"
      },
      "execution_count": 35,
      "outputs": []
    },
    {
      "cell_type": "code",
      "source": [
        "time_step=100\n",
        "x_train, y_train=create_dataset(train_data1, time_step)\n",
        "x_test, y_test= create_dataset(test_data1, time_step)"
      ],
      "metadata": {
        "id": "CAcNt_Vd-Kvx"
      },
      "execution_count": 36,
      "outputs": []
    },
    {
      "cell_type": "code",
      "source": [
        "print(x_train.shape,y_train.shape)"
      ],
      "metadata": {
        "colab": {
          "base_uri": "https://localhost:8080/"
        },
        "id": "awik3gbg-N_z",
        "outputId": "e44b1544-8191-45ab-f0a4-0b35b1b74711"
      },
      "execution_count": 37,
      "outputs": [
        {
          "output_type": "stream",
          "name": "stdout",
          "text": [
            "(1221, 100) (1221,)\n"
          ]
        }
      ]
    },
    {
      "cell_type": "code",
      "source": [
        "#testing\n",
        "x_test.shape"
      ],
      "metadata": {
        "colab": {
          "base_uri": "https://localhost:8080/"
        },
        "id": "qubjvcWC-RcI",
        "outputId": "8c625c27-5c1c-4068-caa1-988a0345348d"
      },
      "execution_count": 38,
      "outputs": [
        {
          "output_type": "execute_result",
          "data": {
            "text/plain": [
              "(612, 100)"
            ]
          },
          "metadata": {},
          "execution_count": 38
        }
      ]
    },
    {
      "cell_type": "code",
      "source": [
        "#testing\n",
        "y_test.shape"
      ],
      "metadata": {
        "colab": {
          "base_uri": "https://localhost:8080/"
        },
        "id": "moqCErmZ-Vcu",
        "outputId": "4adcc780-8b87-4a95-e2e5-be00e94f76b6"
      },
      "execution_count": 39,
      "outputs": [
        {
          "output_type": "execute_result",
          "data": {
            "text/plain": [
              "(612,)"
            ]
          },
          "metadata": {},
          "execution_count": 39
        }
      ]
    },
    {
      "cell_type": "code",
      "source": [
        "x_train = x_train.reshape(x_train.shape[0],x_train.shape[1] , 1)\n",
        "x_test = x_test.reshape(x_test.shape[0],x_test.shape[1] , 1)"
      ],
      "metadata": {
        "id": "BCdAB51C-Yde"
      },
      "execution_count": 40,
      "outputs": []
    },
    {
      "cell_type": "code",
      "source": [
        "model = Sequential()\n",
        "model.add(LSTM(50, return_sequences=True, input_shape=(100,1)))\n",
        "model.add(LSTM(50, return_sequences=True, input_shape=(100,1)))\n",
        "model.add(LSTM(50))\n",
        "model.add(Dense(1))\n",
        "model.compile(loss='mean_squared_error', optimizer='adam', metrics='acc')\n"
      ],
      "metadata": {
        "id": "l9jZnr7w-ceY"
      },
      "execution_count": 41,
      "outputs": []
    },
    {
      "cell_type": "code",
      "source": [
        "model.summary()"
      ],
      "metadata": {
        "colab": {
          "base_uri": "https://localhost:8080/"
        },
        "id": "sbBPLikf-gLl",
        "outputId": "35cc18b0-b285-4746-ee8b-11a602be463a"
      },
      "execution_count": 42,
      "outputs": [
        {
          "output_type": "stream",
          "name": "stdout",
          "text": [
            "Model: \"sequential\"\n",
            "_________________________________________________________________\n",
            " Layer (type)                Output Shape              Param #   \n",
            "=================================================================\n",
            " lstm (LSTM)                 (None, 100, 50)           10400     \n",
            "                                                                 \n",
            " lstm_1 (LSTM)               (None, 100, 50)           20200     \n",
            "                                                                 \n",
            " lstm_2 (LSTM)               (None, 50)                20200     \n",
            "                                                                 \n",
            " dense (Dense)               (None, 1)                 51        \n",
            "                                                                 \n",
            "=================================================================\n",
            "Total params: 50,851\n",
            "Trainable params: 50,851\n",
            "Non-trainable params: 0\n",
            "_________________________________________________________________\n"
          ]
        }
      ]
    },
    {
      "cell_type": "code",
      "source": [
        "model.fit(x_train, y_train, validation_data = (x_test, y_test), epochs = 65, batch_size = 64, verbose = 1)"
      ],
      "metadata": {
        "colab": {
          "base_uri": "https://localhost:8080/"
        },
        "id": "aREnNGFr-qJg",
        "outputId": "3c48b938-3fbb-464f-fc6f-e16a6cf3d3d6"
      },
      "execution_count": 44,
      "outputs": [
        {
          "output_type": "stream",
          "name": "stdout",
          "text": [
            "Epoch 1/65\n",
            "20/20 [==============================] - 4s 213ms/step - loss: 0.0022 - acc: 8.1900e-04 - val_loss: 8.5976e-04 - val_acc: 0.0016\n",
            "Epoch 2/65\n",
            "20/20 [==============================] - 4s 200ms/step - loss: 0.0018 - acc: 8.1900e-04 - val_loss: 0.0012 - val_acc: 0.0016\n",
            "Epoch 3/65\n",
            "20/20 [==============================] - 4s 204ms/step - loss: 0.0016 - acc: 8.1900e-04 - val_loss: 0.0014 - val_acc: 0.0016\n",
            "Epoch 4/65\n",
            "20/20 [==============================] - 4s 198ms/step - loss: 0.0017 - acc: 8.1900e-04 - val_loss: 0.0010 - val_acc: 0.0016\n",
            "Epoch 5/65\n",
            "20/20 [==============================] - 4s 203ms/step - loss: 0.0019 - acc: 8.1900e-04 - val_loss: 0.0015 - val_acc: 0.0016\n",
            "Epoch 6/65\n",
            "20/20 [==============================] - 4s 207ms/step - loss: 0.0016 - acc: 8.1900e-04 - val_loss: 9.0948e-04 - val_acc: 0.0016\n",
            "Epoch 7/65\n",
            "20/20 [==============================] - 4s 202ms/step - loss: 0.0015 - acc: 8.1900e-04 - val_loss: 0.0012 - val_acc: 0.0016\n",
            "Epoch 8/65\n",
            "20/20 [==============================] - 6s 306ms/step - loss: 0.0014 - acc: 8.1900e-04 - val_loss: 0.0013 - val_acc: 0.0016\n",
            "Epoch 9/65\n",
            "20/20 [==============================] - 5s 277ms/step - loss: 0.0012 - acc: 8.1900e-04 - val_loss: 0.0012 - val_acc: 0.0016\n",
            "Epoch 10/65\n",
            "20/20 [==============================] - 5s 257ms/step - loss: 0.0012 - acc: 8.1900e-04 - val_loss: 0.0013 - val_acc: 0.0016\n",
            "Epoch 11/65\n",
            "20/20 [==============================] - 4s 219ms/step - loss: 0.0012 - acc: 8.1900e-04 - val_loss: 0.0011 - val_acc: 0.0016\n",
            "Epoch 12/65\n",
            "20/20 [==============================] - 5s 269ms/step - loss: 0.0012 - acc: 8.1900e-04 - val_loss: 7.3202e-04 - val_acc: 0.0016\n",
            "Epoch 13/65\n",
            "20/20 [==============================] - 5s 240ms/step - loss: 0.0012 - acc: 8.1900e-04 - val_loss: 0.0010 - val_acc: 0.0016\n",
            "Epoch 14/65\n",
            "20/20 [==============================] - 5s 262ms/step - loss: 0.0011 - acc: 8.1900e-04 - val_loss: 8.6342e-04 - val_acc: 0.0016\n",
            "Epoch 15/65\n",
            "20/20 [==============================] - 4s 196ms/step - loss: 0.0011 - acc: 8.1900e-04 - val_loss: 8.6215e-04 - val_acc: 0.0016\n",
            "Epoch 16/65\n",
            "20/20 [==============================] - 4s 196ms/step - loss: 0.0010 - acc: 8.1900e-04 - val_loss: 0.0011 - val_acc: 0.0016\n",
            "Epoch 17/65\n",
            "20/20 [==============================] - 5s 268ms/step - loss: 9.8000e-04 - acc: 8.1900e-04 - val_loss: 8.3464e-04 - val_acc: 0.0016\n",
            "Epoch 18/65\n",
            "20/20 [==============================] - 5s 253ms/step - loss: 0.0011 - acc: 8.1900e-04 - val_loss: 7.4854e-04 - val_acc: 0.0016\n",
            "Epoch 19/65\n",
            "20/20 [==============================] - 4s 199ms/step - loss: 9.1489e-04 - acc: 8.1900e-04 - val_loss: 6.8694e-04 - val_acc: 0.0016\n",
            "Epoch 20/65\n",
            "20/20 [==============================] - 5s 258ms/step - loss: 8.5707e-04 - acc: 8.1900e-04 - val_loss: 8.2045e-04 - val_acc: 0.0016\n",
            "Epoch 21/65\n",
            "20/20 [==============================] - 4s 218ms/step - loss: 8.4555e-04 - acc: 8.1900e-04 - val_loss: 9.5518e-04 - val_acc: 0.0016\n",
            "Epoch 22/65\n",
            "20/20 [==============================] - 4s 213ms/step - loss: 8.6696e-04 - acc: 8.1900e-04 - val_loss: 0.0011 - val_acc: 0.0016\n",
            "Epoch 23/65\n",
            "20/20 [==============================] - 4s 204ms/step - loss: 8.7239e-04 - acc: 8.1900e-04 - val_loss: 7.5784e-04 - val_acc: 0.0016\n",
            "Epoch 24/65\n",
            "20/20 [==============================] - 4s 197ms/step - loss: 8.3229e-04 - acc: 8.1900e-04 - val_loss: 6.8973e-04 - val_acc: 0.0016\n",
            "Epoch 25/65\n",
            "20/20 [==============================] - 4s 211ms/step - loss: 8.1082e-04 - acc: 8.1900e-04 - val_loss: 7.1324e-04 - val_acc: 0.0016\n",
            "Epoch 26/65\n",
            "20/20 [==============================] - 5s 243ms/step - loss: 7.9853e-04 - acc: 8.1900e-04 - val_loss: 9.0400e-04 - val_acc: 0.0016\n",
            "Epoch 27/65\n",
            "20/20 [==============================] - 5s 256ms/step - loss: 8.8069e-04 - acc: 8.1900e-04 - val_loss: 9.1506e-04 - val_acc: 0.0016\n",
            "Epoch 28/65\n",
            "20/20 [==============================] - 5s 237ms/step - loss: 6.9713e-04 - acc: 8.1900e-04 - val_loss: 8.6737e-04 - val_acc: 0.0016\n",
            "Epoch 29/65\n",
            "20/20 [==============================] - 5s 243ms/step - loss: 7.0228e-04 - acc: 8.1900e-04 - val_loss: 8.3479e-04 - val_acc: 0.0016\n",
            "Epoch 30/65\n",
            "20/20 [==============================] - 5s 271ms/step - loss: 7.2445e-04 - acc: 8.1900e-04 - val_loss: 6.6457e-04 - val_acc: 0.0016\n",
            "Epoch 31/65\n",
            "20/20 [==============================] - 6s 318ms/step - loss: 7.3018e-04 - acc: 8.1900e-04 - val_loss: 6.5973e-04 - val_acc: 0.0016\n",
            "Epoch 32/65\n",
            "20/20 [==============================] - 4s 196ms/step - loss: 6.9546e-04 - acc: 8.1900e-04 - val_loss: 6.2739e-04 - val_acc: 0.0016\n",
            "Epoch 33/65\n",
            "20/20 [==============================] - 4s 204ms/step - loss: 7.6907e-04 - acc: 8.1900e-04 - val_loss: 7.5831e-04 - val_acc: 0.0016\n",
            "Epoch 34/65\n",
            "20/20 [==============================] - 4s 206ms/step - loss: 6.1018e-04 - acc: 8.1900e-04 - val_loss: 6.8236e-04 - val_acc: 0.0016\n",
            "Epoch 35/65\n",
            "20/20 [==============================] - 4s 213ms/step - loss: 6.4323e-04 - acc: 8.1900e-04 - val_loss: 5.8193e-04 - val_acc: 0.0016\n",
            "Epoch 36/65\n",
            "20/20 [==============================] - 4s 208ms/step - loss: 6.1825e-04 - acc: 8.1900e-04 - val_loss: 6.0384e-04 - val_acc: 0.0016\n",
            "Epoch 37/65\n",
            "20/20 [==============================] - 5s 234ms/step - loss: 6.1067e-04 - acc: 8.1900e-04 - val_loss: 6.4318e-04 - val_acc: 0.0016\n",
            "Epoch 38/65\n",
            "20/20 [==============================] - 4s 216ms/step - loss: 5.8767e-04 - acc: 8.1900e-04 - val_loss: 7.9923e-04 - val_acc: 0.0016\n",
            "Epoch 39/65\n",
            "20/20 [==============================] - 4s 213ms/step - loss: 5.7737e-04 - acc: 8.1900e-04 - val_loss: 7.0708e-04 - val_acc: 0.0016\n",
            "Epoch 40/65\n",
            "20/20 [==============================] - 4s 191ms/step - loss: 6.0687e-04 - acc: 8.1900e-04 - val_loss: 6.6451e-04 - val_acc: 0.0016\n",
            "Epoch 41/65\n",
            "20/20 [==============================] - 4s 201ms/step - loss: 5.7838e-04 - acc: 8.1900e-04 - val_loss: 5.8057e-04 - val_acc: 0.0016\n",
            "Epoch 42/65\n",
            "20/20 [==============================] - 4s 193ms/step - loss: 5.6212e-04 - acc: 8.1900e-04 - val_loss: 6.1952e-04 - val_acc: 0.0016\n",
            "Epoch 43/65\n",
            "20/20 [==============================] - 4s 205ms/step - loss: 5.4380e-04 - acc: 8.1900e-04 - val_loss: 8.1762e-04 - val_acc: 0.0016\n",
            "Epoch 44/65\n",
            "20/20 [==============================] - 4s 192ms/step - loss: 6.0425e-04 - acc: 8.1900e-04 - val_loss: 6.1309e-04 - val_acc: 0.0016\n",
            "Epoch 45/65\n",
            "20/20 [==============================] - 4s 211ms/step - loss: 5.2625e-04 - acc: 8.1900e-04 - val_loss: 5.9756e-04 - val_acc: 0.0016\n",
            "Epoch 46/65\n",
            "20/20 [==============================] - 4s 209ms/step - loss: 5.6248e-04 - acc: 8.1900e-04 - val_loss: 4.9609e-04 - val_acc: 0.0016\n",
            "Epoch 47/65\n",
            "20/20 [==============================] - 4s 211ms/step - loss: 5.8632e-04 - acc: 8.1900e-04 - val_loss: 5.2627e-04 - val_acc: 0.0016\n",
            "Epoch 48/65\n",
            "20/20 [==============================] - 4s 220ms/step - loss: 5.5888e-04 - acc: 8.1900e-04 - val_loss: 4.8318e-04 - val_acc: 0.0016\n",
            "Epoch 49/65\n",
            "20/20 [==============================] - 5s 250ms/step - loss: 8.9789e-04 - acc: 8.1900e-04 - val_loss: 6.2981e-04 - val_acc: 0.0016\n",
            "Epoch 50/65\n",
            "20/20 [==============================] - 4s 197ms/step - loss: 5.4273e-04 - acc: 8.1900e-04 - val_loss: 6.4356e-04 - val_acc: 0.0016\n",
            "Epoch 51/65\n",
            "20/20 [==============================] - 4s 195ms/step - loss: 5.0560e-04 - acc: 8.1900e-04 - val_loss: 6.1476e-04 - val_acc: 0.0016\n",
            "Epoch 52/65\n",
            "20/20 [==============================] - 4s 195ms/step - loss: 5.3619e-04 - acc: 8.1900e-04 - val_loss: 4.5328e-04 - val_acc: 0.0016\n",
            "Epoch 53/65\n",
            "20/20 [==============================] - 4s 205ms/step - loss: 5.5346e-04 - acc: 8.1900e-04 - val_loss: 7.3911e-04 - val_acc: 0.0016\n",
            "Epoch 54/65\n",
            "20/20 [==============================] - 4s 198ms/step - loss: 4.8746e-04 - acc: 8.1900e-04 - val_loss: 4.8867e-04 - val_acc: 0.0016\n",
            "Epoch 55/65\n",
            "20/20 [==============================] - 4s 204ms/step - loss: 4.6883e-04 - acc: 8.1900e-04 - val_loss: 5.2228e-04 - val_acc: 0.0016\n",
            "Epoch 56/65\n",
            "20/20 [==============================] - 4s 200ms/step - loss: 4.5426e-04 - acc: 8.1900e-04 - val_loss: 5.3584e-04 - val_acc: 0.0016\n",
            "Epoch 57/65\n",
            "20/20 [==============================] - 4s 206ms/step - loss: 4.5247e-04 - acc: 8.1900e-04 - val_loss: 4.0361e-04 - val_acc: 0.0016\n",
            "Epoch 58/65\n",
            "20/20 [==============================] - 4s 200ms/step - loss: 4.6493e-04 - acc: 8.1900e-04 - val_loss: 4.0628e-04 - val_acc: 0.0016\n",
            "Epoch 59/65\n",
            "20/20 [==============================] - 4s 219ms/step - loss: 5.6018e-04 - acc: 8.1900e-04 - val_loss: 4.6898e-04 - val_acc: 0.0016\n",
            "Epoch 60/65\n",
            "20/20 [==============================] - 5s 263ms/step - loss: 4.7989e-04 - acc: 8.1900e-04 - val_loss: 3.7911e-04 - val_acc: 0.0016\n",
            "Epoch 61/65\n",
            "20/20 [==============================] - 4s 209ms/step - loss: 4.4785e-04 - acc: 8.1900e-04 - val_loss: 5.1701e-04 - val_acc: 0.0016\n",
            "Epoch 62/65\n",
            "20/20 [==============================] - 4s 198ms/step - loss: 4.6824e-04 - acc: 8.1900e-04 - val_loss: 4.1013e-04 - val_acc: 0.0016\n",
            "Epoch 63/65\n",
            "20/20 [==============================] - 4s 212ms/step - loss: 4.8426e-04 - acc: 8.1900e-04 - val_loss: 3.5843e-04 - val_acc: 0.0016\n",
            "Epoch 64/65\n",
            "20/20 [==============================] - 4s 199ms/step - loss: 4.4460e-04 - acc: 8.1900e-04 - val_loss: 5.9020e-04 - val_acc: 0.0016\n",
            "Epoch 65/65\n",
            "20/20 [==============================] - 4s 194ms/step - loss: 4.2772e-04 - acc: 8.1900e-04 - val_loss: 3.8673e-04 - val_acc: 0.0016\n"
          ]
        },
        {
          "output_type": "execute_result",
          "data": {
            "text/plain": [
              "<keras.callbacks.History at 0x7fbd901a5190>"
            ]
          },
          "metadata": {},
          "execution_count": 44
        }
      ]
    },
    {
      "cell_type": "code",
      "source": [
        "#training model\n",
        "train_predict1=model.predict(x_train)\n",
        "test_predict1=model.predict(x_test)\n"
      ],
      "metadata": {
        "colab": {
          "base_uri": "https://localhost:8080/"
        },
        "id": "BflhI4N1-4aS",
        "outputId": "2cc16439-6d68-45ef-d98e-8b3d90277ae0"
      },
      "execution_count": 45,
      "outputs": [
        {
          "output_type": "stream",
          "name": "stdout",
          "text": [
            "39/39 [==============================] - 3s 36ms/step\n",
            "20/20 [==============================] - 1s 34ms/step\n"
          ]
        }
      ]
    },
    {
      "cell_type": "code",
      "source": [
        "#Transforming to original form\n",
        "train_predict1=scaler.inverse_transform(train_predict1)\n",
        "test_predict1=scaler.inverse_transform(test_predict1)"
      ],
      "metadata": {
        "id": "WlTe0oRO--m2"
      },
      "execution_count": 46,
      "outputs": []
    },
    {
      "cell_type": "code",
      "source": [
        "#calculating mean square value\n",
        "math.sqrt(mean_squared_error(y_train,train_predict1))"
      ],
      "metadata": {
        "colab": {
          "base_uri": "https://localhost:8080/"
        },
        "id": "chGW2Fv1_C5Z",
        "outputId": "9e7e2db1-0e65-4cbd-9766-abfaed764416"
      },
      "execution_count": 52,
      "outputs": [
        {
          "output_type": "execute_result",
          "data": {
            "text/plain": [
              "165.83072684605986"
            ]
          },
          "metadata": {},
          "execution_count": 52
        }
      ]
    },
    {
      "cell_type": "code",
      "source": [
        "#calculating mean square value\n",
        "math.sqrt(mean_squared_error(y_test,test_predict1))"
      ],
      "metadata": {
        "colab": {
          "base_uri": "https://localhost:8080/"
        },
        "id": "V-mlhmMZ_FwN",
        "outputId": "c8d114d8-ef05-48d9-a909-a55d9c2cb125"
      },
      "execution_count": 53,
      "outputs": [
        {
          "output_type": "execute_result",
          "data": {
            "text/plain": [
              "116.59764365756658"
            ]
          },
          "metadata": {},
          "execution_count": 53
        }
      ]
    },
    {
      "cell_type": "code",
      "source": [
        "# shift train predictions for plotting\n",
        "look_back=100\n",
        "trainPredictPlot = np.empty_like(training_set_scaler)\n",
        "trainPredictPlot[:, :] = np.nan\n",
        "trainPredictPlot[look_back:len(train_predict1)+look_back, :] = train_predict1\n",
        "\n"
      ],
      "metadata": {
        "id": "U_xOvZeN_M7X"
      },
      "execution_count": 49,
      "outputs": []
    },
    {
      "cell_type": "code",
      "source": [
        "# shift test predictions for plotting\n",
        "testPredictPlot = np.empty_like(training_set_scaler)\n",
        "testPredictPlot[:, :] = np.nan\n",
        "testPredictPlot[len(train_predict1)+(look_back*2)+1:len(df1)-1, :] = test_predict1\n",
        "\n"
      ],
      "metadata": {
        "id": "F7B6z-Ch_RFz"
      },
      "execution_count": 50,
      "outputs": []
    },
    {
      "cell_type": "code",
      "source": [
        "# plot baseline and predictions\n",
        "plt.figure(figsize=(10,5))\n",
        "plt.plot(scaler.inverse_transform(training_set_scaler))\n",
        "plt.plot(trainPredictPlot)\n",
        "plt.plot(testPredictPlot)\n",
        "plt.show()"
      ],
      "metadata": {
        "colab": {
          "base_uri": "https://localhost:8080/",
          "height": 320
        },
        "id": "18L3JEMo_TD9",
        "outputId": "c4d321ad-f478-45f6-d80a-72f230d0935e"
      },
      "execution_count": 51,
      "outputs": [
        {
          "output_type": "display_data",
          "data": {
            "text/plain": [
              "<Figure size 720x360 with 1 Axes>"
            ],
            "image/png": "[encoded data removed]"
          },
          "metadata": {
            "needs_background": "light"
          }
        }
      ]
    }
  ]
}
